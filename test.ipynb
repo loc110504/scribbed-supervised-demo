{
 "cells": [
  {
   "cell_type": "code",
   "execution_count": null,
   "id": "086a6abe",
   "metadata": {},
   "outputs": [],
   "source": []
  }
 ],
 "metadata": {
  "kernelspec": {
   "display_name": "unimatch",
   "language": "python",
   "name": "python3"
  },
  "language_info": {
   "name": "python",
   "version": "3.10.4"
  }
 },
 "nbformat": 4,
 "nbformat_minor": 5
}
