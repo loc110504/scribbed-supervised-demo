{
 "cells": [
  {
   "cell_type": "code",
   "execution_count": 1,
   "id": "086a6abe",
   "metadata": {},
   "outputs": [
    {
     "name": "stdout",
     "output_type": "stream",
     "text": [
      "Root groups/datasets in 'datasets/ACDC/ACDC_training_slices/patient001_frame01_slice_0.h5':\n",
      "  - image: Dataset\n",
      "  - label: Dataset\n",
      "  - scribble: Dataset\n",
      "\n",
      "Detailed structure:\n",
      "Dataset: image\n",
      "  shape: (256, 216)\n",
      "  dtype: float32\n",
      "Dataset: label\n",
      "  shape: (256, 216)\n",
      "  dtype: uint8\n",
      "Dataset: scribble\n",
      "  shape: (256, 216)\n",
      "  dtype: uint16\n"
     ]
    }
   ],
   "source": [
    "import h5py\n",
    "\n",
    "def explore_h5(file_path):\n",
    "    \"\"\"\n",
    "    Mở file .h5 và in ra cấu trúc:\n",
    "      - Các group và dataset\n",
    "      - Hình dạng (shape) và kiểu dữ liệu (dtype) của mỗi dataset\n",
    "    \"\"\"\n",
    "    with h5py.File(file_path, 'r') as f:\n",
    "        print(f\"Root groups/datasets in '{file_path}':\")\n",
    "        for key in f.keys():\n",
    "            print(f\"  - {key}: {type(f[key]).__name__}\")\n",
    "        \n",
    "        def print_item(name, obj):\n",
    "            if isinstance(obj, h5py.Dataset):\n",
    "                print(f\"Dataset: {name}\")\n",
    "                print(f\"  shape: {obj.shape}\")\n",
    "                print(f\"  dtype: {obj.dtype}\")\n",
    "            elif isinstance(obj, h5py.Group):\n",
    "                print(f\"Group:   {name}\")\n",
    "        \n",
    "        print(\"\\nDetailed structure:\")\n",
    "        f.visititems(print_item)\n",
    "\n",
    "if __name__ == \"__main__\":\n",
    "    # Thay 'your_file.h5' bằng đường dẫn tới file của bạn\n",
    "    explore_h5('datasets/ACDC/ACDC_training_slices/patient001_frame01_slice_0.h5')\n"
   ]
  },
  {
   "cell_type": "code",
   "execution_count": null,
   "id": "53ef44f1",
   "metadata": {},
   "outputs": [],
   "source": []
  }
 ],
 "metadata": {
  "kernelspec": {
   "display_name": "unimatch",
   "language": "python",
   "name": "python3"
  },
  "language_info": {
   "codemirror_mode": {
    "name": "ipython",
    "version": 3
   },
   "file_extension": ".py",
   "mimetype": "text/x-python",
   "name": "python",
   "nbconvert_exporter": "python",
   "pygments_lexer": "ipython3",
   "version": "3.10.4"
  }
 },
 "nbformat": 4,
 "nbformat_minor": 5
}
